{
  "nbformat": 4,
  "nbformat_minor": 0,
  "metadata": {
    "colab": {
      "provenance": []
    },
    "kernelspec": {
      "name": "python3",
      "display_name": "Python 3"
    },
    "language_info": {
      "name": "python"
    }
  },
  "cells": [
    {
      "cell_type": "markdown",
      "source": [
        "# **iris flower classificiation**"
      ],
      "metadata": {
        "id": "9kADhgU16nHH"
      }
    },
    {
      "cell_type": "code",
      "source": [
        "\n",
        "\n",
        "from sklearn.datasets import load_iris\n",
        "from sklearn.preprocessing import StandardScaler\n",
        "from sklearn.pipeline import make_pipeline\n",
        "from sklearn.linear_model import LogisticRegression\n",
        "\n",
        "# Step 1: Load the dataset\n",
        "iris = load_iris()\n",
        "\n",
        "# Step 2: Preprocess the data (if needed)\n",
        "# Here, we'll simply scale the features\n",
        "scaler = StandardScaler()\n",
        "X_scaled = scaler.fit_transform(iris.data)\n",
        "\n",
        "# Step 3: Select a model and create a pipeline\n",
        "model = make_pipeline(StandardScaler(), LogisticRegression(max_iter=1000))\n",
        "\n",
        "# Step 4: Train the model\n",
        "model.fit(X_scaled, iris.target)\n",
        "\n",
        "# Step 5: User input for iris measurements\n",
        "print(\"Enter sepal length, sepal width, petal length, and petal width separated by commas (e.g., 5.1,3.5,1.4,0.2):\")\n",
        "user_input = input().strip().split(',')\n",
        "user_input = [float(val) for val in user_input]\n",
        "\n",
        "# Step 6: Make prediction for user input\n",
        "prediction = model.predict([user_input])\n",
        "\n",
        "# Step 7: Print prediction\n",
        "print(\"Predicted iris species:\", iris.target_names[prediction[0]])\n"
      ],
      "metadata": {
        "colab": {
          "base_uri": "https://localhost:8080/"
        },
        "id": "XezGgYKQ64Qp",
        "outputId": "1459467b-e977-404d-beb9-b14df053c91e"
      },
      "execution_count": 3,
      "outputs": [
        {
          "output_type": "stream",
          "name": "stdout",
          "text": [
            "Enter sepal length, sepal width, petal length, and petal width separated by commas (e.g., 5.1,3.5,1.4,0.2):\n",
            "5,3,5,4\n",
            "Predicted iris species: virginica\n"
          ]
        }
      ]
    }
  ]
}